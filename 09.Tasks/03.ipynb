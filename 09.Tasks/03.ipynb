{
 "cells": [
  {
   "attachments": {},
   "cell_type": "markdown",
   "metadata": {},
   "source": [
    "Произвести вычисления как в пункте 2, но с вычислением intercept. Учесть, что изменение коэффициентов должно производиться на каждом шаге одновременно (то есть изменение одного коэффициента не должно влиять на изменение другого во время одной итерации)."
   ]
  },
  {
   "cell_type": "code",
   "execution_count": 27,
   "metadata": {},
   "outputs": [
    {
     "name": "stdout",
     "output_type": "stream",
     "text": [
      "B0 и B1 начальные 0.1 при cкорости обучения 0.00005 на 100000 итераций\n"
     ]
    }
   ],
   "source": [
    "import numpy as np\n",
    "import matplotlib.pyplot as plt\n",
    "zp = np.array([35, 45, 190, 200, 40, 70, 54, 150, 120, 110])\n",
    "ks = np.array([401, 574, 874, 919, 459, 739, 653, 902, 746, 832])\n",
    "b1 = (np.mean(zp * ks) - np.mean(zp) * np.mean(ks)) / (np.mean(zp**2) - np.mean(zp) ** 2)\n",
    "alpha=5e-05\n",
    "a = b = 0.1\n",
    "iteration = 100000\n",
    "print(f\"B0 и B1 начальные {b} при cкорости обучения {alpha:.5f} на {iteration} итераций\")"
   ]
  },
  {
   "cell_type": "code",
   "execution_count": 29,
   "metadata": {},
   "outputs": [
    {
     "data": {
      "text/plain": [
       "6472.374568364497"
      ]
     },
     "execution_count": 29,
     "metadata": {},
     "output_type": "execute_result"
    }
   ],
   "source": [
    "mse_min=np.sum((a+b*zp-ks)**2)/len(zp)\n",
    "for i in range(iteration):\n",
    "    a-=alpha*(2*np.sum((a+b*zp)-ks)/len(zp))\n",
    "    b-=alpha*(2*np.sum(((a+b*zp)-ks)*zp)/len(ks))\n",
    "    if np.sum(((a+b*zp)-ks)**2)/len(zp)>mse_min:\n",
    "        print(f\"На {i} итерации достигнут минимум mse={mse_min}\\n\\\n",
    "Интерсепт равен {a:.2f} и Коэффициент линейной регрессии {b:.2f}\")\n",
    "        break\n",
    "    else:\n",
    "        mse_min=np.sum(((a+b*zp)-ks)**2)/len(zp)\n"
   ]
  }
 ],
 "metadata": {
  "kernelspec": {
   "display_name": "Python 3",
   "language": "python",
   "name": "python3"
  },
  "language_info": {
   "codemirror_mode": {
    "name": "ipython",
    "version": 3
   },
   "file_extension": ".py",
   "mimetype": "text/x-python",
   "name": "python",
   "nbconvert_exporter": "python",
   "pygments_lexer": "ipython3",
   "version": "3.10.8"
  },
  "orig_nbformat": 4,
  "vscode": {
   "interpreter": {
    "hash": "84ab96ccd8c66d6657327bcb3bfb3c1bff11ef648f012f04516ca45b055801cd"
   }
  }
 },
 "nbformat": 4,
 "nbformat_minor": 2
}
