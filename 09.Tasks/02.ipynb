{
 "cells": [
  {
   "attachments": {},
   "cell_type": "markdown",
   "metadata": {},
   "source": [
    "Посчитать коэффициент линейной регрессии при заработной плате (zp),\n",
    "используя градиентный спуск (без intercept).\n",
    "\n",
    "$mse=\\frac{\\sum(y - y_{pred})^2}{n}$"
   ]
  },
  {
   "cell_type": "code",
   "execution_count": 58,
   "metadata": {},
   "outputs": [
    {
     "name": "stdout",
     "output_type": "stream",
     "text": [
      "B1 начальная 0.1 при cкорости обучения 0.000001 на 1000 итераций\n"
     ]
    }
   ],
   "source": [
    "import numpy as np\n",
    "import matplotlib.pyplot as plt\n",
    "zp = np.array([35, 45, 190, 200, 40, 70, 54, 150, 120, 110])\n",
    "ks = np.array([401, 574, 874, 919, 459, 739, 653, 902, 746, 832])\n",
    "b1 = (np.mean(zp * ks) - np.mean(zp) * np.mean(ks)) / (np.mean(zp**2) - np.mean(zp) ** 2)\n",
    "alpha=1e-06\n",
    "b=0.1\n",
    "iteration = 1000\n",
    "print(f\"B1 начальная {b} при cкорости обучения {alpha:.6f} на {iteration} итераций\")"
   ]
  },
  {
   "cell_type": "code",
   "execution_count": 59,
   "metadata": {},
   "outputs": [
    {
     "name": "stdout",
     "output_type": "stream",
     "text": [
      "На 629 итерации достигнут минимум mse=56516.85841571966\n",
      "Коэффициент линейной регрессии без интерсепта равен 5.89\n"
     ]
    }
   ],
   "source": [
    "mse_min=np.sum((b*zp-ks)**2)/len(zp)\n",
    "for i in range(iteration):\n",
    "    b-=alpha*(2/len(zp))*np.sum((b*zp-ks)*zp)\n",
    "    if np.sum((b*zp-ks)**2)/len(zp)>mse_min:\n",
    "        print(f\"На {i} итерации достигнут минимум mse={mse_min}\\n\\\n",
    "Коэффициент линейной регрессии без интерсепта равен {b:.2f}\")\n",
    "        break\n",
    "    else:\n",
    "        mse_min=np.sum((b*zp-ks)**2)/len(zp)"
   ]
  }
 ],
 "metadata": {
  "kernelspec": {
   "display_name": "Python 3",
   "language": "python",
   "name": "python3"
  },
  "language_info": {
   "codemirror_mode": {
    "name": "ipython",
    "version": 3
   },
   "file_extension": ".py",
   "mimetype": "text/x-python",
   "name": "python",
   "nbconvert_exporter": "python",
   "pygments_lexer": "ipython3",
   "version": "3.10.8"
  },
  "orig_nbformat": 4,
  "vscode": {
   "interpreter": {
    "hash": "84ab96ccd8c66d6657327bcb3bfb3c1bff11ef648f012f04516ca45b055801cd"
   }
  }
 },
 "nbformat": 4,
 "nbformat_minor": 2
}
