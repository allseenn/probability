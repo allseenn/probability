{
 "cells": [
  {
   "cell_type": "code",
   "execution_count": 3,
   "metadata": {},
   "outputs": [
    {
     "name": "stdout",
     "output_type": "stream",
     "text": [
      "1.2257142857142858 5.600000000000001\n"
     ]
    }
   ],
   "source": [
    "import numpy as np\n",
    "X3 = np.array([30,30,40, 40, 20, 20, 50, 50, 10, 10, 60, 60]) \n",
    "Y3 = np.array([37, 47, 50, 60, 25, 35, 62, 72, 13, 23, 74, 84]) \n",
    "X_mean3 = np.mean(X3)\n",
    "Y_mean3 = np.mean(Y3)\n",
    "B1 = np.sum((X3 - X_mean3) * (Y3 - Y_mean3)) / np.sum((X3 - X_mean3)**2)\n",
    "B0 = Y_mean3 - B1 * X_mean3\n",
    "print(f\"{B1} {B0}\")"
   ]
  },
  {
   "cell_type": "code",
   "execution_count": null,
   "metadata": {},
   "outputs": [],
   "source": []
  }
 ],
 "metadata": {
  "kernelspec": {
   "display_name": "Python 3",
   "language": "python",
   "name": "python3"
  },
  "language_info": {
   "codemirror_mode": {
    "name": "ipython",
    "version": 3
   },
   "file_extension": ".py",
   "mimetype": "text/x-python",
   "name": "python",
   "nbconvert_exporter": "python",
   "pygments_lexer": "ipython3",
   "version": "3.10.8"
  },
  "orig_nbformat": 4,
  "vscode": {
   "interpreter": {
    "hash": "84ab96ccd8c66d6657327bcb3bfb3c1bff11ef648f012f04516ca45b055801cd"
   }
  }
 },
 "nbformat": 4,
 "nbformat_minor": 2
}
