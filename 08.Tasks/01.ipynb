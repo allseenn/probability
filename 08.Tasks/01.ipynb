{
 "cells": [
  {
   "attachments": {},
   "cell_type": "markdown",
   "metadata": {},
   "source": [
    "Даны значения величины заработной платы заемщиков банка (zp) и значения их поведенческого кредитного скоринга (ks):\n",
    "```\n",
    "zp = [35, 45, 190, 200, 40, 70, 54, 150, 120, 110],\n",
    "ks = [401, 574, 874, 919, 459, 739, 653, 902, 746, 832].\n",
    "```\n",
    "1. Найдите ковариацию этих двух величин с помощью элементарных действий\n",
    "2. а затем с помощью функции cov из numpy. Полученные значения должны быть равны.\n",
    "\n",
    "3. Найдите коэффициент корреляции Пирсона с помощью ковариации и среднеквадратичных отклонений двух признаков,\n",
    "4. а затем с использованием функций из библиотек numpy и pandas."
   ]
  },
  {
   "attachments": {},
   "cell_type": "markdown",
   "metadata": {},
   "source": [
    "1.  $cov_{xy} = M(XY)−M (X)∗M(Y)$"
   ]
  },
  {
   "cell_type": "code",
   "execution_count": 16,
   "metadata": {},
   "outputs": [
    {
     "name": "stdout",
     "output_type": "stream",
     "text": [
      "Ковариация с помощью элементарных действий равна 9157.84\n"
     ]
    }
   ],
   "source": [
    "import numpy as np\n",
    "zp = np.array([35, 45, 190, 200, 40, 70, 54, 150, 120, 110])\n",
    "ks = np.array([401, 574, 874, 919, 459, 739, 653, 902, 746, 832])\n",
    "cov1 = np.mean(zp*ks) - np.mean(zp)*np.mean(ks)\n",
    "print(f\"Смещенная ковариация с помощью элементарных действий равна {cov1:.2f}\")"
   ]
  },
  {
   "attachments": {},
   "cell_type": "markdown",
   "metadata": {},
   "source": [
    "2. Ковариация с помощью функции numpy cov"
   ]
  },
  {
   "cell_type": "code",
   "execution_count": 18,
   "metadata": {},
   "outputs": [
    {
     "name": "stdout",
     "output_type": "stream",
     "text": [
      "Смещенная ковариация с помощью функции numpy равна 9157.84\n"
     ]
    }
   ],
   "source": [
    "cov2 = np.cov(zp, ks, ddof=0)\n",
    "print(f\"Смещенная ковариация с помощью функции numpy равна {cov2[1][0]}\")"
   ]
  },
  {
   "attachments": {},
   "cell_type": "markdown",
   "metadata": {},
   "source": [
    "3. Формула коэффициента корреляции Пирсона:  $r = \\frac{cov_{xy}}{\\sigma_x*\\sigma_y}$"
   ]
  },
  {
   "cell_type": "code",
   "execution_count": 22,
   "metadata": {},
   "outputs": [
    {
     "name": "stdout",
     "output_type": "stream",
     "text": [
      "Kоэффициент Пирсона равен 0.88749\n"
     ]
    }
   ],
   "source": [
    "r1 = cov1/(np.std(zp, ddof=0)*np.std(ks, ddof=0))\n",
    "print(f\"Kоэффициент Пирсона равен {r1:.5f}\")"
   ]
  },
  {
   "attachments": {},
   "cell_type": "markdown",
   "metadata": {},
   "source": [
    "4. Коэффициент Пирсона с помощью функции numpy corrcoef()"
   ]
  },
  {
   "cell_type": "code",
   "execution_count": 25,
   "metadata": {},
   "outputs": [
    {
     "name": "stdout",
     "output_type": "stream",
     "text": [
      "Коэффициент Пирсона с помощью numpy равен 0.88749\n"
     ]
    }
   ],
   "source": [
    "r2 = np.corrcoef(zp, ks)\n",
    "print(f\"Коэффициент Пирсона с помощью numpy равен {r2[0][1]:.5f}\")"
   ]
  },
  {
   "cell_type": "code",
   "execution_count": 34,
   "metadata": {},
   "outputs": [
    {
     "name": "stdout",
     "output_type": "stream",
     "text": [
      "Коэффициент Пирсона с pandas равен 0.88749\n"
     ]
    }
   ],
   "source": [
    "import pandas as pd\n",
    "x = pd.Series(zp)\n",
    "y = pd.Series(ks)\n",
    "r3 = x.corr(y, method='pearson')\n",
    "print(f\"Коэффициент Пирсона с pandas равен {r3:.5f}\")"
   ]
  },
  {
   "cell_type": "code",
   "execution_count": 36,
   "metadata": {},
   "outputs": [
    {
     "name": "stdout",
     "output_type": "stream",
     "text": [
      "Коэффициент Пирсона с scipy равен 0.88749\n"
     ]
    }
   ],
   "source": [
    "from scipy import stats as st\n",
    "stat, p_value = st.pearsonr(zp, ks)\n",
    "print(f\"Коэффициент Пирсона с scipy равен {stat:.5f}\")"
   ]
  }
 ],
 "metadata": {
  "kernelspec": {
   "display_name": "Python 3",
   "language": "python",
   "name": "python3"
  },
  "language_info": {
   "codemirror_mode": {
    "name": "ipython",
    "version": 3
   },
   "file_extension": ".py",
   "mimetype": "text/x-python",
   "name": "python",
   "nbconvert_exporter": "python",
   "pygments_lexer": "ipython3",
   "version": "3.10.8"
  },
  "orig_nbformat": 4,
  "vscode": {
   "interpreter": {
    "hash": "84ab96ccd8c66d6657327bcb3bfb3c1bff11ef648f012f04516ca45b055801cd"
   }
  }
 },
 "nbformat": 4,
 "nbformat_minor": 2
}
