{
 "cells": [
  {
   "attachments": {},
   "cell_type": "markdown",
   "metadata": {},
   "source": [
    "Известно, что рост футболистов в сборной распределен нормально с дисперсией генеральной совокупности, равной 25 кв.см. Объем выборки равен 27,  среднее выборочное составляет 174.2. \n",
    "Найдите доверительный интервал для математического ожидания с надежностью 0.95"
   ]
  },
  {
   "attachments": {},
   "cell_type": "markdown",
   "metadata": {},
   "source": [
    "Формула нахождения интервала для среднего арифметического: $ \\overline{X} \\underline{+} z\\frac{\\alpha}{2} * \\frac{\\sigma}{\\sqrt{n}}$ при известной СКО"
   ]
  },
  {
   "cell_type": "code",
   "execution_count": 18,
   "metadata": {},
   "outputs": [
    {
     "name": "stdout",
     "output_type": "stream",
     "text": [
      "Средне арифметический рост футболистов в доверительном интервале (172.31; 176.09)\n"
     ]
    }
   ],
   "source": [
    "import scipy.stats as stats\n",
    "x = 174.2\n",
    "sigma = 5\n",
    "confidence = 0.95\n",
    "alpha = 1 - confidence\n",
    "n = 27\n",
    "z = stats.norm.ppf(1-alpha/2)\n",
    "minimum = x - z * sigma/n**0.5\n",
    "maximum = x + z * sigma/n**0.5\n",
    "print(f\"Средне арифметический рост футболистов в доверительном интервале ({minimum:.2f}; {maximum:.2f})\")"
   ]
  }
 ],
 "metadata": {
  "kernelspec": {
   "display_name": "Python 3",
   "language": "python",
   "name": "python3"
  },
  "language_info": {
   "codemirror_mode": {
    "name": "ipython",
    "version": 3
   },
   "file_extension": ".py",
   "mimetype": "text/x-python",
   "name": "python",
   "nbconvert_exporter": "python",
   "pygments_lexer": "ipython3",
   "version": "3.10.8"
  },
  "orig_nbformat": 4,
  "vscode": {
   "interpreter": {
    "hash": "84ab96ccd8c66d6657327bcb3bfb3c1bff11ef648f012f04516ca45b055801cd"
   }
  }
 },
 "nbformat": 4,
 "nbformat_minor": 2
}
