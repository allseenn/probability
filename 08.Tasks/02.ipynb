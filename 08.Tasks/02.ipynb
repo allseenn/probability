{
 "cells": [
  {
   "attachments": {},
   "cell_type": "markdown",
   "metadata": {},
   "source": [
    "Измерены значения IQ выборки студентов, обучающихся в местных технических вузах:\n",
    "```\n",
    "131, 125, 115, 122, 131, 115, 107, 99, 125, 111.\n",
    "``` \n",
    "Известно, что в генеральной совокупности IQ распределен нормально.\n",
    "Найдите доверительный интервал для математического ожидания с надежностью 0.95."
   ]
  },
  {
   "attachments": {},
   "cell_type": "markdown",
   "metadata": {},
   "source": [
    "Формула нахождения интервала для среднего арифметического: $ \\overline{X} \\underline{+} t\\frac{\\alpha}{2} * \\frac{\\sigma}{\\sqrt{n}}$ при неизвестной СКО"
   ]
  },
  {
   "cell_type": "code",
   "execution_count": 1,
   "metadata": {},
   "outputs": [
    {
     "name": "stdout",
     "output_type": "stream",
     "text": [
      "Средне арифметический IQ студентов в доверительном интервале [110.55608365158724; 125.64391634841274]\n"
     ]
    }
   ],
   "source": [
    "import numpy as np\n",
    "import scipy.stats as stats\n",
    "data = np.array([131, 125, 115, 122, 131, 115, 107, 99, 125, 111])\n",
    "sigma = np.std(data, ddof=1)\n",
    "alpha = 0.05\n",
    "t = stats.t.ppf(1-alpha/2, len(data)-1)\n",
    "x = np.mean(data)\n",
    "minimum = x - t * sigma/len(data)**0.5\n",
    "maximum = x + t * sigma/len(data)**0.5\n",
    "print(f\"Средне арифметический IQ студентов в доверительном интервале [{minimum}; {maximum}]\")"
   ]
  }
 ],
 "metadata": {
  "kernelspec": {
   "display_name": "Python 3",
   "language": "python",
   "name": "python3"
  },
  "language_info": {
   "codemirror_mode": {
    "name": "ipython",
    "version": 3
   },
   "file_extension": ".py",
   "mimetype": "text/x-python",
   "name": "python",
   "nbconvert_exporter": "python",
   "pygments_lexer": "ipython3",
   "version": "3.10.8"
  },
  "orig_nbformat": 4,
  "vscode": {
   "interpreter": {
    "hash": "84ab96ccd8c66d6657327bcb3bfb3c1bff11ef648f012f04516ca45b055801cd"
   }
  }
 },
 "nbformat": 4,
 "nbformat_minor": 2
}
