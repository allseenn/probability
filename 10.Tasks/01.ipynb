{
 "cells": [
  {
   "attachments": {},
   "cell_type": "markdown",
   "metadata": {},
   "source": [
    "# Задача\n",
    "Провести дисперсионный анализ для определения того, есть ли различия среднего роста среди взрослых футболистов, хоккеистов и штангистов. \n",
    "\n",
    "Даны значения роста в трех группах случайно выбранных спортсменов:\n",
    "\n",
    "Футболисты: 173, 175, 180, 178, 177, 185, 183, 182.\n",
    "\n",
    "Хоккеисты: 177, 179, 180, 188, 177, 172, 171, 184, 180.\n",
    "\n",
    "Штангисты: 172, 173, 169, 177, 166, 180, 178, 177, 172, 166, 170."
   ]
  },
  {
   "attachments": {},
   "cell_type": "markdown",
   "metadata": {},
   "source": [
    "## Проверка\n",
    "Выберм стандартный уровоень статистической значимости $\\alpha = 0.05$\n",
    "\n",
    "Для дисперсионного анализа есть следующие условия применимости:\n",
    "1.\tЗначения групп должны следовать нормальному распределению\n",
    "2.\tОднородность дисперсий\n",
    "3.\tНезависимость измерений"
   ]
  },
  {
   "attachments": {},
   "cell_type": "markdown",
   "metadata": {},
   "source": [
    "1. Проверим на \"нормальность\" с помощью теста Шапиро - Уилка:"
   ]
  },
  {
   "cell_type": "code",
   "execution_count": null,
   "metadata": {},
   "outputs": [],
   "source": [
    "import numpy as np\n",
    "import scipy.stats as stats\n",
    "football = np.array([173, 175, 180, 178, 177, 185, 183, 182])\n",
    "hockey = np.array([177, 179, 180, 188, 177, 172, 171, 184, 180])\n",
    "lifting = np.array([172, 173, 169, 177, 166, 180, 178, 177, 172, 166, 170])"
   ]
  },
  {
   "cell_type": "code",
   "execution_count": 5,
   "metadata": {},
   "outputs": [
    {
     "data": {
      "text/plain": [
       "ShapiroResult(statistic=0.9775082468986511, pvalue=0.9495404362678528)"
      ]
     },
     "execution_count": 5,
     "metadata": {},
     "output_type": "execute_result"
    }
   ],
   "source": [
    "stats.shapiro(football)"
   ]
  },
  {
   "cell_type": "code",
   "execution_count": 6,
   "metadata": {},
   "outputs": [
    {
     "data": {
      "text/plain": [
       "ShapiroResult(statistic=0.9579196572303772, pvalue=0.7763139009475708)"
      ]
     },
     "execution_count": 6,
     "metadata": {},
     "output_type": "execute_result"
    }
   ],
   "source": [
    "stats.shapiro(hockey)"
   ]
  },
  {
   "cell_type": "code",
   "execution_count": 7,
   "metadata": {},
   "outputs": [
    {
     "data": {
      "text/plain": [
       "ShapiroResult(statistic=0.9386808276176453, pvalue=0.5051165223121643)"
      ]
     },
     "execution_count": 7,
     "metadata": {},
     "output_type": "execute_result"
    }
   ],
   "source": [
    "stats.shapiro(lifting)"
   ]
  },
  {
   "attachments": {},
   "cell_type": "markdown",
   "metadata": {},
   "source": [
    "Футболисты: P-value 0.94 > $\\alpha 0.05$\n",
    "\n",
    "Хоккеисты: P-value 0.77 > $\\alpha 0.05$\n",
    "\n",
    "Штангисты: P-value 0.5 > $\\alpha 0.05$\n",
    "\n",
    "Все 3 группы имеют нормальное распределение"
   ]
  },
  {
   "attachments": {},
   "cell_type": "markdown",
   "metadata": {},
   "source": [
    "2. Проверим выборки на однородность дисперсий с помощью Барлетт теста:"
   ]
  },
  {
   "cell_type": "code",
   "execution_count": 11,
   "metadata": {},
   "outputs": [
    {
     "data": {
      "text/plain": [
       "BartlettResult(statistic=0.4640521043406442, pvalue=0.7929254656083131)"
      ]
     },
     "execution_count": 11,
     "metadata": {},
     "output_type": "execute_result"
    }
   ],
   "source": [
    "stats.bartlett(football, hockey, lifting)"
   ]
  },
  {
   "attachments": {},
   "cell_type": "markdown",
   "metadata": {},
   "source": [
    "Три выборки имеют однородность дисперсий\n",
    "\n",
    "3. Предположим, что предоставленные выборки имеют независимые измерения."
   ]
  },
  {
   "attachments": {},
   "cell_type": "markdown",
   "metadata": {},
   "source": [
    "## Анализ\n",
    "По условию задачи рассматриваем один фактор (средний рост) среди трех независимых групп спортсменов, следовательно проведем однофакторный дисперсионный анализ с помощью функцию f_oneway критерия Фишера"
   ]
  },
  {
   "cell_type": "code",
   "execution_count": 9,
   "metadata": {},
   "outputs": [
    {
     "data": {
      "text/plain": [
       "F_onewayResult(statistic=5.500053450812596, pvalue=0.010482206918698693)"
      ]
     },
     "execution_count": 9,
     "metadata": {},
     "output_type": "execute_result"
    }
   ],
   "source": [
    "stats.f_oneway(football, hockey, lifting)"
   ]
  },
  {
   "attachments": {},
   "cell_type": "markdown",
   "metadata": {},
   "source": [
    "Сформулируем гипотезы:\n",
    "\n",
    "$H0 : \\mu_1=\\mu_2=\\mu_3$  - средний рост спортсмена не различается в отдельных видах спорта\n",
    "\n",
    "$H1: \\mu_1\\neq\\mu_2\\neq\\mu_3$ - средний рост спортсмена различается в отдельных видах спорта\n",
    "\n",
    "$\\alpha$ 0.05 > p-value 0.01\n",
    "\n",
    "Следовательно при при меньшем p-value, не принимаем нулевую гипотезу, альтернативная гипотеза имеет статистически значимые различия. \n",
    "\n",
    "Вывод: средний рост спортсменов различается в отдельных видах спорта. "
   ]
  },
  {
   "attachments": {},
   "cell_type": "markdown",
   "metadata": {},
   "source": [
    "## Ответ\n",
    "Средний рост спортсменов различается в отдельных видах спорта."
   ]
  },
  {
   "attachments": {},
   "cell_type": "markdown",
   "metadata": {},
   "source": [
    "## Личное мнение\n",
    "Приведенный выше ответ не говорит в каких именно видах спорта наблюдаются статистически значимые различия.\n",
    "\n",
    "Построив график (боксплот), визуально заметна разница среднего роста, в меньшую сторону, штангистов (lifting) по сравнению с остальными спортсменами.\n",
    "У хоккеистов и футболистов наблюдается одинаковый (с минимальным различием) средний рост.\n",
    "Хочу отметить, что в америке футболистами (football players) принято называть игроков в американский футбол (аналог регби).\n",
    "Европейский футбол американцы называют soccer. Игроки в американский футбол, в отличии от европейского, имеют высокий рост сравнимый с хоккеистами."
   ]
  },
  {
   "cell_type": "code",
   "execution_count": 28,
   "metadata": {},
   "outputs": [
    {
     "data": {
      "image/png": "[encoded data removed]",
      "text/plain": [
       "<Figure size 640x480 with 1 Axes>"
      ]
     },
     "metadata": {},
     "output_type": "display_data"
    }
   ],
   "source": [
    "import matplotlib.pyplot as pyplot\n",
    "pyplot.boxplot([football, hockey, lifting], labels=[\"football\", \"hockey\", \"lifting\"])\n",
    "pyplot.show()"
   ]
  },
  {
   "attachments": {},
   "cell_type": "markdown",
   "metadata": {},
   "source": [
    "Тест Тьюка проводится с датафреймом numpy, который в свою очередь, требует объема выборок одинакового размера.\n",
    "Что бы была возможность воспользоваться тестом, я посчитал среднее арифметическое для каждой выборки и дополнил этими значениями каждый массив, до 11 элементов. Т.к. 11 элементов имеет самый длинный массив штангистов."
   ]
  },
  {
   "cell_type": "code",
   "execution_count": 18,
   "metadata": {},
   "outputs": [],
   "source": [
    "foot_m = football.mean()\n",
    "hock_m = hockey.mean()\n",
    "lift_m = lifting.mean()"
   ]
  },
  {
   "cell_type": "code",
   "execution_count": 19,
   "metadata": {},
   "outputs": [
    {
     "data": {
      "text/html": [
       "<div>\n",
       "<style scoped>\n",
       "    .dataframe tbody tr th:only-of-type {\n",
       "        vertical-align: middle;\n",
       "    }\n",
       "\n",
       "    .dataframe tbody tr th {\n",
       "        vertical-align: top;\n",
       "    }\n",
       "\n",
       "    .dataframe thead th {\n",
       "        text-align: right;\n",
       "    }\n",
       "</style>\n",
       "<table border=\"1\" class=\"dataframe\">\n",
       "  <thead>\n",
       "    <tr style=\"text-align: right;\">\n",
       "      <th></th>\n",
       "      <th>score</th>\n",
       "      <th>group</th>\n",
       "    </tr>\n",
       "  </thead>\n",
       "  <tbody>\n",
       "    <tr>\n",
       "      <th>0</th>\n",
       "      <td>173.000000</td>\n",
       "      <td>football</td>\n",
       "    </tr>\n",
       "    <tr>\n",
       "      <th>1</th>\n",
       "      <td>175.000000</td>\n",
       "      <td>football</td>\n",
       "    </tr>\n",
       "    <tr>\n",
       "      <th>2</th>\n",
       "      <td>180.000000</td>\n",
       "      <td>football</td>\n",
       "    </tr>\n",
       "    <tr>\n",
       "      <th>3</th>\n",
       "      <td>178.000000</td>\n",
       "      <td>football</td>\n",
       "    </tr>\n",
       "    <tr>\n",
       "      <th>4</th>\n",
       "      <td>177.000000</td>\n",
       "      <td>football</td>\n",
       "    </tr>\n",
       "    <tr>\n",
       "      <th>5</th>\n",
       "      <td>185.000000</td>\n",
       "      <td>football</td>\n",
       "    </tr>\n",
       "    <tr>\n",
       "      <th>6</th>\n",
       "      <td>183.000000</td>\n",
       "      <td>football</td>\n",
       "    </tr>\n",
       "    <tr>\n",
       "      <th>7</th>\n",
       "      <td>182.000000</td>\n",
       "      <td>football</td>\n",
       "    </tr>\n",
       "    <tr>\n",
       "      <th>8</th>\n",
       "      <td>179.125000</td>\n",
       "      <td>football</td>\n",
       "    </tr>\n",
       "    <tr>\n",
       "      <th>9</th>\n",
       "      <td>179.125000</td>\n",
       "      <td>football</td>\n",
       "    </tr>\n",
       "    <tr>\n",
       "      <th>10</th>\n",
       "      <td>179.125000</td>\n",
       "      <td>football</td>\n",
       "    </tr>\n",
       "    <tr>\n",
       "      <th>11</th>\n",
       "      <td>177.000000</td>\n",
       "      <td>hockey</td>\n",
       "    </tr>\n",
       "    <tr>\n",
       "      <th>12</th>\n",
       "      <td>179.000000</td>\n",
       "      <td>hockey</td>\n",
       "    </tr>\n",
       "    <tr>\n",
       "      <th>13</th>\n",
       "      <td>180.000000</td>\n",
       "      <td>hockey</td>\n",
       "    </tr>\n",
       "    <tr>\n",
       "      <th>14</th>\n",
       "      <td>188.000000</td>\n",
       "      <td>hockey</td>\n",
       "    </tr>\n",
       "    <tr>\n",
       "      <th>15</th>\n",
       "      <td>177.000000</td>\n",
       "      <td>hockey</td>\n",
       "    </tr>\n",
       "    <tr>\n",
       "      <th>16</th>\n",
       "      <td>172.000000</td>\n",
       "      <td>hockey</td>\n",
       "    </tr>\n",
       "    <tr>\n",
       "      <th>17</th>\n",
       "      <td>171.000000</td>\n",
       "      <td>hockey</td>\n",
       "    </tr>\n",
       "    <tr>\n",
       "      <th>18</th>\n",
       "      <td>184.000000</td>\n",
       "      <td>hockey</td>\n",
       "    </tr>\n",
       "    <tr>\n",
       "      <th>19</th>\n",
       "      <td>180.000000</td>\n",
       "      <td>hockey</td>\n",
       "    </tr>\n",
       "    <tr>\n",
       "      <th>20</th>\n",
       "      <td>178.666667</td>\n",
       "      <td>hockey</td>\n",
       "    </tr>\n",
       "    <tr>\n",
       "      <th>21</th>\n",
       "      <td>178.666667</td>\n",
       "      <td>hockey</td>\n",
       "    </tr>\n",
       "    <tr>\n",
       "      <th>22</th>\n",
       "      <td>172.000000</td>\n",
       "      <td>lifting</td>\n",
       "    </tr>\n",
       "    <tr>\n",
       "      <th>23</th>\n",
       "      <td>173.000000</td>\n",
       "      <td>lifting</td>\n",
       "    </tr>\n",
       "    <tr>\n",
       "      <th>24</th>\n",
       "      <td>169.000000</td>\n",
       "      <td>lifting</td>\n",
       "    </tr>\n",
       "    <tr>\n",
       "      <th>25</th>\n",
       "      <td>177.000000</td>\n",
       "      <td>lifting</td>\n",
       "    </tr>\n",
       "    <tr>\n",
       "      <th>26</th>\n",
       "      <td>166.000000</td>\n",
       "      <td>lifting</td>\n",
       "    </tr>\n",
       "    <tr>\n",
       "      <th>27</th>\n",
       "      <td>180.000000</td>\n",
       "      <td>lifting</td>\n",
       "    </tr>\n",
       "    <tr>\n",
       "      <th>28</th>\n",
       "      <td>178.000000</td>\n",
       "      <td>lifting</td>\n",
       "    </tr>\n",
       "    <tr>\n",
       "      <th>29</th>\n",
       "      <td>177.000000</td>\n",
       "      <td>lifting</td>\n",
       "    </tr>\n",
       "    <tr>\n",
       "      <th>30</th>\n",
       "      <td>172.000000</td>\n",
       "      <td>lifting</td>\n",
       "    </tr>\n",
       "    <tr>\n",
       "      <th>31</th>\n",
       "      <td>166.000000</td>\n",
       "      <td>lifting</td>\n",
       "    </tr>\n",
       "    <tr>\n",
       "      <th>32</th>\n",
       "      <td>170.000000</td>\n",
       "      <td>lifting</td>\n",
       "    </tr>\n",
       "  </tbody>\n",
       "</table>\n",
       "</div>"
      ],
      "text/plain": [
       "         score     group\n",
       "0   173.000000  football\n",
       "1   175.000000  football\n",
       "2   180.000000  football\n",
       "3   178.000000  football\n",
       "4   177.000000  football\n",
       "5   185.000000  football\n",
       "6   183.000000  football\n",
       "7   182.000000  football\n",
       "8   179.125000  football\n",
       "9   179.125000  football\n",
       "10  179.125000  football\n",
       "11  177.000000    hockey\n",
       "12  179.000000    hockey\n",
       "13  180.000000    hockey\n",
       "14  188.000000    hockey\n",
       "15  177.000000    hockey\n",
       "16  172.000000    hockey\n",
       "17  171.000000    hockey\n",
       "18  184.000000    hockey\n",
       "19  180.000000    hockey\n",
       "20  178.666667    hockey\n",
       "21  178.666667    hockey\n",
       "22  172.000000   lifting\n",
       "23  173.000000   lifting\n",
       "24  169.000000   lifting\n",
       "25  177.000000   lifting\n",
       "26  166.000000   lifting\n",
       "27  180.000000   lifting\n",
       "28  178.000000   lifting\n",
       "29  177.000000   lifting\n",
       "30  172.000000   lifting\n",
       "31  166.000000   lifting\n",
       "32  170.000000   lifting"
      ]
     },
     "execution_count": 19,
     "metadata": {},
     "output_type": "execute_result"
    }
   ],
   "source": [
    "from statsmodels.stats.multicomp import pairwise_tukeyhsd\n",
    "import pandas as pd \n",
    "\n",
    "df = pd.DataFrame({\"score\": [173, 175, 180, 178, 177, 185, 183, 182, foot_m, foot_m, foot_m,\n",
    "                            177, 179, 180, 188, 177, 172, 171, 184, 180, hock_m, hock_m,\n",
    "                            172, 173, 169, 177, 166, 180, 178, 177, 172, 166, 170],\n",
    "                 \"group\": np.repeat([\"football\",\"hockey\",\"lifting\"], repeats=11)})\n",
    "df"
   ]
  },
  {
   "cell_type": "code",
   "execution_count": 20,
   "metadata": {},
   "outputs": [
    {
     "name": "stdout",
     "output_type": "stream",
     "text": [
      "  Multiple Comparison of Means - Tukey HSD, FWER=0.05   \n",
      "========================================================\n",
      " group1   group2 meandiff p-adj   lower    upper  reject\n",
      "--------------------------------------------------------\n",
      "football  hockey  -0.4583 0.9675  -5.0687   4.152  False\n",
      "football lifting  -6.3977  0.005 -11.0081 -1.7874   True\n",
      "  hockey lifting  -5.9394 0.0094 -10.5497 -1.3291   True\n",
      "--------------------------------------------------------\n"
     ]
    }
   ],
   "source": [
    "tukey = pairwise_tukeyhsd(df[\"score\"], df[\"group\"], alpha =0.05)\n",
    "print(tukey)"
   ]
  },
  {
   "attachments": {},
   "cell_type": "markdown",
   "metadata": {},
   "source": [
    "В результата теста, получаем таблицу, в которой видна статистическая разница между Футболистами и Штангистами, Хоккеистами и Штангистами. А статистической разницы в среднем росте между Футболистами и Хоккеистами не обнаружено."
   ]
  }
 ],
 "metadata": {
  "kernelspec": {
   "display_name": "Python 3",
   "language": "python",
   "name": "python3"
  },
  "language_info": {
   "codemirror_mode": {
    "name": "ipython",
    "version": 3
   },
   "file_extension": ".py",
   "mimetype": "text/x-python",
   "name": "python",
   "nbconvert_exporter": "python",
   "pygments_lexer": "ipython3",
   "version": "3.10.8"
  },
  "orig_nbformat": 4,
  "vscode": {
   "interpreter": {
    "hash": "84ab96ccd8c66d6657327bcb3bfb3c1bff11ef648f012f04516ca45b055801cd"
   }
  }
 },
 "nbformat": 4,
 "nbformat_minor": 2
}
